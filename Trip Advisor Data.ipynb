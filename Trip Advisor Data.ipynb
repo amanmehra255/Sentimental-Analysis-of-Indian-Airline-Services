{
 "cells": [
  {
   "cell_type": "code",
   "execution_count": null,
   "metadata": {
    "collapsed": true
   },
   "outputs": [],
   "source": [
    "with open('air_india.json','r') as air_india:\n",
    "    air_india_json=json.load(air_india)\n",
    "    print air_india_json"
   ]
  },
  {
   "cell_type": "code",
   "execution_count": null,
   "metadata": {
    "collapsed": true
   },
   "outputs": [],
   "source": [
    "import json\n"
   ]
  },
  {
   "cell_type": "code",
   "execution_count": null,
   "metadata": {
    "collapsed": true
   },
   "outputs": [],
   "source": [
    "air_india_json[0]\n"
   ]
  },
  {
   "cell_type": "code",
   "execution_count": null,
   "metadata": {
    "collapsed": true
   },
   "outputs": [],
   "source": [
    "count=0\n",
    "for i in range(len(air_india_json)):\n",
    "    if not air_india_json[i]['content']==None:\n",
    "        count+=1\n",
    "print count"
   ]
  },
  {
   "cell_type": "code",
   "execution_count": null,
   "metadata": {
    "collapsed": true
   },
   "outputs": [],
   "source": [
    "print len(air_india_json)"
   ]
  },
  {
   "cell_type": "code",
   "execution_count": null,
   "metadata": {
    "collapsed": true
   },
   "outputs": [],
   "source": [
    "def counting_function(field,jsn):\n",
    "    count=0\n",
    "    for i in range(len(jsn)):\n",
    "        if not jsn[i][field]==None:\n",
    "            count+=1\n",
    "    return count\n",
    "        "
   ]
  },
  {
   "cell_type": "code",
   "execution_count": null,
   "metadata": {
    "collapsed": true
   },
   "outputs": [],
   "source": [
    "fields=['cabin','content','date','destination','rating','route','title']\n",
    "for field in fields:\n",
    "    print field+\": \",counting_function(field,new_air_india_json)"
   ]
  },
  {
   "cell_type": "code",
   "execution_count": null,
   "metadata": {
    "collapsed": true
   },
   "outputs": [],
   "source": [
    "new_air_india_json=[]\n",
    "for i in range(len(air_india_json)):\n",
    "    if not (air_india_json[i]['content']==None and air_india_json[i]['title']==None and  air_india_json[i]['rating']==None):\n",
    "        new_air_india_json.append(air_india_json[i])\n"
   ]
  },
  {
   "cell_type": "code",
   "execution_count": null,
   "metadata": {
    "collapsed": true
   },
   "outputs": [],
   "source": [
    "with open('air_india.json','w') as new_air_india:\n",
    "    json.dump(new_air_india_json,new_air_india)"
   ]
  },
  {
   "cell_type": "code",
   "execution_count": null,
   "metadata": {
    "collapsed": true
   },
   "outputs": [],
   "source": [
    "with open('jet_airways.json','r') as jet_airways:\n",
    "    jet_airways_json=json.load(jet_airways)\n",
    "    print jet_airways_json"
   ]
  },
  {
   "cell_type": "code",
   "execution_count": null,
   "metadata": {
    "collapsed": true
   },
   "outputs": [],
   "source": [
    "for field in fields:\n",
    "    print field+\": \",counting_function(field,jet_airways_json)"
   ]
  },
  {
   "cell_type": "code",
   "execution_count": null,
   "metadata": {
    "collapsed": true
   },
   "outputs": [],
   "source": [
    "new_jet_airways_json=[]\n",
    "for i in range(len(jet_airways_json)):\n",
    "    if not (jet_airways_json[i]['content']==None and jet_airways_json[i]['title']==None and jet_airways_json[i]['rating']==None):\n",
    "        new_jet_airways_json.append(jet_airways_json[i])"
   ]
  },
  {
   "cell_type": "code",
   "execution_count": null,
   "metadata": {
    "collapsed": true
   },
   "outputs": [],
   "source": [
    "with open('jet_airways.json','w') as new_jet_airways:\n",
    "    json.dump(new_jet_airways_json,new_jet_airways)"
   ]
  },
  {
   "cell_type": "code",
   "execution_count": null,
   "metadata": {
    "collapsed": true
   },
   "outputs": [],
   "source": [
    "def clean_json_data(airline_name):\n",
    "    with open(airline_name,'r') as airline:\n",
    "        airline_json=json.load(airline)\n",
    "        fields=['cabin','content','date','destination','rating','route','title']\n",
    "        print \"Original\"\n",
    "        for field in fields:\n",
    "            print field+\": \",counting_function(field,airline_json)\n",
    "        print \"After clean up\"\n",
    "        new_airline_json=[]\n",
    "        for i in range(len(airline_json)):\n",
    "            if not (airline_json[i]['content']==None and airline_json[i]['title']==None and  airline_json[i]['rating']==None):\n",
    "                new_airline_json.append(airline_json[i])\n",
    "        for field in fields:\n",
    "            print field+\": \",counting_function(field,new_airline_json)\n"
   ]
  },
  {
   "cell_type": "code",
   "execution_count": null,
   "metadata": {
    "collapsed": true
   },
   "outputs": [],
   "source": [
    "clean_json_data('indigo.json')"
   ]
  },
  {
   "cell_type": "code",
   "execution_count": null,
   "metadata": {
    "collapsed": true
   },
   "outputs": [],
   "source": [
    "clean_json_data('spicejet.json')"
   ]
  },
  {
   "cell_type": "code",
   "execution_count": null,
   "metadata": {
    "collapsed": true
   },
   "outputs": [],
   "source": [
    "clean_json_data('goair.json')"
   ]
  },
  {
   "cell_type": "markdown",
   "metadata": {},
   "source": [
    "# Preprocess data\n",
    "## Removing stopwords\n",
    "## Removing puctuation marks"
   ]
  },
  {
   "cell_type": "code",
   "execution_count": null,
   "metadata": {
    "collapsed": true
   },
   "outputs": [],
   "source": [
    "import nltk\n",
    "\n",
    "from nltk.corpus import stopwords \n",
    "stop_words = set(stopwords.words('english'))\n",
    "useless_words=['air','flight','airlin','goair','indigo','ground','jet','airways','they','i','jetairways','travel','also','took','spice jet','even','fli','also']\n",
    "\n",
    "def preprocess(jsn):\n",
    "    for i in range(len(jsn)):\n",
    "        preprocessed_content=[]\n",
    "        content=jsn[i]['content']\n",
    "        if not content==None:\n",
    "            content=content.split()\n",
    "            for token in content:\n",
    "                if token not in stop_words:\n",
    "                    \n",
    "                    preprocessed_content.append(token.lower())\n",
    "            print preprocessed_content"
   ]
  },
  {
   "cell_type": "code",
   "execution_count": null,
   "metadata": {
    "collapsed": true
   },
   "outputs": [],
   "source": [
    "def read_json(airline_name):\n",
    "    with open(airline_name,'r') as airline:\n",
    "        airline_json=json.load(airline)\n",
    "        return airline_json"
   ]
  },
  {
   "cell_type": "code",
   "execution_count": null,
   "metadata": {
    "collapsed": true
   },
   "outputs": [],
   "source": [
    "goair_json=read_json('goair.json')"
   ]
  },
  {
   "cell_type": "code",
   "execution_count": null,
   "metadata": {
    "collapsed": true
   },
   "outputs": [],
   "source": [
    "preprocess(goair_json)"
   ]
  },
  {
   "cell_type": "code",
   "execution_count": null,
   "metadata": {
    "collapsed": true
   },
   "outputs": [],
   "source": [
    "spicejet_json=read_json('spicejet.json')"
   ]
  },
  {
   "cell_type": "code",
   "execution_count": null,
   "metadata": {
    "collapsed": true
   },
   "outputs": [],
   "source": [
    "preprocess(spicejet_json)"
   ]
  },
  {
   "cell_type": "code",
   "execution_count": null,
   "metadata": {
    "collapsed": true
   },
   "outputs": [],
   "source": [
    "preprocess(read_json('air_india.json'))"
   ]
  },
  {
   "cell_type": "code",
   "execution_count": null,
   "metadata": {
    "collapsed": true
   },
   "outputs": [],
   "source": [
    "preprocess(read_json('indigo.json'))"
   ]
  },
  {
   "cell_type": "code",
   "execution_count": null,
   "metadata": {
    "collapsed": true
   },
   "outputs": [],
   "source": [
    "preprocess(read_json('jet_airways.json'))"
   ]
  },
  {
   "cell_type": "code",
   "execution_count": null,
   "metadata": {
    "collapsed": true
   },
   "outputs": [],
   "source": [
    "from nltk.stem.porter import PorterStemmer\n",
    "from string import maketrans\n",
    "porter_stemmer = PorterStemmer()   \n",
    "import string\n",
    "import json\n",
    "def read_json(airline_name):\n",
    "    with open(airline_name,'r') as airline:\n",
    "        airline_json=json.load(airline)\n",
    "        return airline_json\n",
    "    \n",
    "def preprocess(jsn):\n",
    "    c=[]\n",
    "    table = {ord(char): None for char in string.punctuation}\n",
    "    for i in range(len(jsn)):\n",
    "        preprocessed_content=[]\n",
    "        content=jsn[i]['content']\n",
    "        \n",
    "        if not content==None:\n",
    "            content=content.split()\n",
    "            for token in content:\n",
    "                if token not in stop_words and not token.lower().translate(table)==\"aed\":\n",
    "                    \n",
    "                    #print token.lower().translate(table)\n",
    "                    preprocessed_content.append(porter_stemmer.stem(token.lower().translate(table)))\n",
    "            c.append(preprocessed_content)\n",
    "    return c"
   ]
  },
  {
   "cell_type": "code",
   "execution_count": null,
   "metadata": {
    "collapsed": true
   },
   "outputs": [],
   "source": [
    "\n",
    "def write_tokens(f,alt):\n",
    "    with open(f,'w') as al:\n",
    "        d={}\n",
    "        for i in range(len(alt)):\n",
    "            d[i]=alt[i]\n",
    "        json.dump(d,al)\n",
    "        "
   ]
  },
  {
   "cell_type": "code",
   "execution_count": null,
   "metadata": {
    "collapsed": true
   },
   "outputs": [],
   "source": [
    "write_tokens('jet_airways-token.json',preprocess(read_json('jet_airways.json')))"
   ]
  },
  {
   "cell_type": "code",
   "execution_count": null,
   "metadata": {
    "collapsed": true
   },
   "outputs": [],
   "source": [
    "write_tokens('indigo_tokens.json',preprocess(read_json('indigo.json')))"
   ]
  },
  {
   "cell_type": "code",
   "execution_count": null,
   "metadata": {
    "collapsed": true
   },
   "outputs": [],
   "source": [
    "write_tokens('spicejet_tokens.json',preprocess(read_json('spicejet.json')))"
   ]
  },
  {
   "cell_type": "code",
   "execution_count": null,
   "metadata": {
    "collapsed": true
   },
   "outputs": [],
   "source": [
    "write_tokens('goair_tokens.json',preprocess(read_json('goair.json')))"
   ]
  },
  {
   "cell_type": "code",
   "execution_count": null,
   "metadata": {
    "collapsed": true,
    "scrolled": false
   },
   "outputs": [],
   "source": [
    "from textblob import TextBlob"
   ]
  },
  {
   "cell_type": "code",
   "execution_count": null,
   "metadata": {
    "collapsed": true
   },
   "outputs": [],
   "source": []
  },
  {
   "cell_type": "code",
   "execution_count": null,
   "metadata": {
    "collapsed": true
   },
   "outputs": [],
   "source": [
    "from textblob import TextBlob"
   ]
  },
  {
   "cell_type": "code",
   "execution_count": null,
   "metadata": {
    "collapsed": true
   },
   "outputs": [],
   "source": [
    "TextBlob"
   ]
  },
  {
   "cell_type": "code",
   "execution_count": null,
   "metadata": {
    "collapsed": true
   },
   "outputs": [],
   "source": [
    "testimonial = TextBlob(\"Textblob is amazingly simple to use. What great fun!\")"
   ]
  },
  {
   "cell_type": "code",
   "execution_count": null,
   "metadata": {
    "collapsed": true
   },
   "outputs": [],
   "source": [
    "testimonial.sentiment.polarity"
   ]
  },
  {
   "cell_type": "code",
   "execution_count": null,
   "metadata": {
    "collapsed": true
   },
   "outputs": [],
   "source": [
    "testimonial.classify"
   ]
  },
  {
   "cell_type": "code",
   "execution_count": null,
   "metadata": {
    "collapsed": true
   },
   "outputs": [],
   "source": [
    "import json\n",
    "def calculate_polarity(file):\n",
    "    d={}\n",
    "    with open(file[:len(file)-5]+\"_polarity.json\",'w') as fp:\n",
    "        with open(file,'r') as f :\n",
    "            jsn=json.load(f)\n",
    "            for i in range(len(jsn)):\n",
    "                p=TextBlob(\" \".join(jsn[str(i)])).sentiment.polarity\n",
    "                d[\" \".join(jsn[str(i)])]=p\n",
    "            json.dump(d,fp)"
   ]
  },
  {
   "cell_type": "code",
   "execution_count": null,
   "metadata": {
    "collapsed": true
   },
   "outputs": [],
   "source": [
    "calculate_polarity('goair_tokens.json')"
   ]
  },
  {
   "cell_type": "code",
   "execution_count": null,
   "metadata": {
    "collapsed": true
   },
   "outputs": [],
   "source": [
    "def count_polarity(file):\n",
    "    with open(file) as f:\n",
    "        jsn=json.load(f)\n",
    "        n=0\n",
    "        p=0\n",
    "        z=0\n",
    "        for i in jsn.keys():\n",
    "            if jsn[i]>0:\n",
    "                p+=1\n",
    "            if jsn[i]<0:\n",
    "                n+=1\n",
    "            if round(jsn[i],4)==0.0000:\n",
    "                z+=1\n",
    "        print(\"Positive : \"+str(p),\"Negative : \"+str(n),\"Nuetral : \"+str(z),\"Total : \"+str(len(jsn.keys())))"
   ]
  },
  {
   "cell_type": "code",
   "execution_count": null,
   "metadata": {
    "collapsed": true
   },
   "outputs": [],
   "source": [
    "count_polarity('goair_tokens_polarity.json')"
   ]
  },
  {
   "cell_type": "code",
   "execution_count": null,
   "metadata": {
    "collapsed": true
   },
   "outputs": [],
   "source": [
    "calculate_polarity('air_india_tokens.json')"
   ]
  },
  {
   "cell_type": "code",
   "execution_count": null,
   "metadata": {
    "collapsed": true
   },
   "outputs": [],
   "source": [
    "count_polarity('air_india_tokens_polarity.json')"
   ]
  },
  {
   "cell_type": "code",
   "execution_count": null,
   "metadata": {
    "collapsed": true
   },
   "outputs": [],
   "source": [
    "calculate_polarity('jet_airways-token.json')\n",
    "count_polarity('jet_airways-token_polarity.json')"
   ]
  },
  {
   "cell_type": "code",
   "execution_count": null,
   "metadata": {
    "collapsed": true
   },
   "outputs": [],
   "source": [
    "calculate_polarity('spicejet_tokens.json')\n",
    "count_polarity('spicejet_tokens_polarity.json')"
   ]
  },
  {
   "cell_type": "code",
   "execution_count": null,
   "metadata": {
    "collapsed": true
   },
   "outputs": [],
   "source": [
    "calculate_polarity('indigo_tokens.json')\n",
    "count_polarity('indigo_tokens_polarity.json')"
   ]
  },
  {
   "cell_type": "code",
   "execution_count": 1,
   "metadata": {},
   "outputs": [
    {
     "data": {
      "image/png": "[encoded data removed]",
      "text/plain": [
       "<matplotlib.figure.Figure at 0x208046d2588>"
      ]
     },
     "metadata": {},
     "output_type": "display_data"
    }
   ],
   "source": [
    "import numpy as np\n",
    "import matplotlib.pyplot as plt\n",
    "from matplotlib import rc\n",
    "import pandas as pd\n",
    " \n",
    "# y-axis in bold\n",
    "rc('font', weight='bold')\n",
    " \n",
    "# Values of each group\n",
    "bars1 = [4695, 2597, 2070, 988, 289]\n",
    "bars2 = [984, 483, 614, 310, 74]\n",
    "bars3 = [655, 414, 189, 214, 61]\n",
    " \n",
    "# Heights of bars1 + bars2 (TO DO better)\n",
    "bars = [5679, 3080, 2684, 1298, 363]\n",
    " \n",
    "# The position of the bars on the x-axis\n",
    "r = [0,1,2,3,4]\n",
    " \n",
    "# Names of group and bar width\n",
    "names = ['Jet Airways','Indigo','Air India','Spicejet','Go Air']\n",
    "barWidth = .825\n",
    "\n",
    " \n",
    "# Create brown bars\n",
    "p1=plt.bar(r, bars1, edgecolor='white', width=barWidth,lineWidth=0)\n",
    "# Create green bars (middle), on top of the firs ones\n",
    "p2=plt.bar(r, bars2, bottom=bars1, edgecolor='white', width=barWidth,lineWidth=0)\n",
    "# Create green bars (top)\n",
    "p3=plt.bar(r, bars3, bottom=bars, edgecolor='white', width=barWidth,lineWidth=0)\n",
    " \n",
    "# Custom X axis\n",
    "plt.xticks(r, names, fontweight='bold')\n",
    "plt.xlabel(\"Airlines\")\n",
    "plt.ylabel(\"Number of Reviews\")\n",
    "plt.legend((p1[0], p2[0],p3[0]), (\"Positive\",\"Negative\" ,'Nuetral'))\n",
    "# Show graphic\n",
    "plt.show()\n"
   ]
  },
  {
   "cell_type": "code",
   "execution_count": 23,
   "metadata": {},
   "outputs": [
    {
     "data": {
      "image/png": "[encoded data removed]",
      "text/plain": [
       "<matplotlib.figure.Figure at 0x249f87c48d0>"
      ]
     },
     "metadata": {},
     "output_type": "display_data"
    }
   ],
   "source": [
    "import numpy as np\n",
    "import matplotlib.pyplot as plt\n",
    "from matplotlib import rc\n",
    "import pandas as pd\n",
    " \n",
    "# Data\n",
    "r = [0,1,2,3,4]\n",
    "raw_data = {'greenBars': [4695, 2597, 2070, 988, 289], 'orangeBars': [984, 483, 614, 310, 74],'blueBars':  [655, 414, 189, 214, 61]}\n",
    "df = pd.DataFrame(raw_data)\n",
    " \n",
    "# From raw value to percentage\n",
    "totals = [i+j+k for i,j,k in zip(df['greenBars'], df['orangeBars'], df['blueBars'])]\n",
    "greenBars = [i / j  for i,j in zip(df['greenBars'], totals)]\n",
    "orangeBars = [i / j  for i,j in zip(df['orangeBars'], totals)]\n",
    "blueBars = [i / j  for i,j in zip(df['blueBars'], totals)]\n",
    " \n",
    "# plot\n",
    "barWidth = 0.85\n",
    "\n",
    "names = ('Jet Airways','Indigo','Air India','Spicejet','Go Air')\n",
    "# Create green Bars\n",
    "p1=plt.bar(r, greenBars, color='#b5ffb9', edgecolor='white', width=barWidth,lineWidth=0)\n",
    "# Create orange Bars\n",
    "p2=plt.bar(r, orangeBars, bottom=greenBars, color='#f9bc86', edgecolor='white', width=barWidth,lineWidth=0)\n",
    "# Create blue Bars\n",
    "p3=plt.bar(r, blueBars, bottom=[i+j for i,j in zip(greenBars, orangeBars)], color='#a3acff', edgecolor='white', width=barWidth,lineWidth=0)\n",
    " \n",
    "# Custom x axis\n",
    "plt.xticks(r, names)\n",
    "plt.xlabel(\"Airlines\")\n",
    "plt.ylabel(\"Fraction of Reviews\")\n",
    "plt.legend((p1[0], p2[0],p3[0]), (\"#Positive/#Total\",\"#Negative/#Total\" ,'#Nuetral/#Total'))\n",
    "# Show graphic\n",
    "plt.show()\n"
   ]
  },
  {
   "cell_type": "code",
   "execution_count": null,
   "metadata": {
    "collapsed": true
   },
   "outputs": [],
   "source": [
    "import re\n",
    "import string\n",
    "def frequency(file):\n",
    "    frequency = {}\n",
    "    ar=\"\"\n",
    "    with open(file, 'r') as f:\n",
    "        jsn=json.load(f)\n",
    "        for i in range(len(jsn)):\n",
    "            r=\" \".join(jsn[str(i)])\n",
    "            ar=ar+\" \"+r\n",
    "        match_pattern = re.findall(r'\\b[a-z]+\\b', ar)\n",
    "        #print match_pattern\n",
    "       \n",
    "        for word in match_pattern: \n",
    "            count = frequency.get(word,0)\n",
    "            frequency[word] = count + 1            \n",
    "        frequency_list = frequency.keys()\n",
    "\n",
    "        for words in frequency_list:\n",
    "            if frequency[words]>=10:\n",
    "                print(words, frequency[words])\n",
    "        return ar\n"
   ]
  },
  {
   "cell_type": "code",
   "execution_count": null,
   "metadata": {
    "collapsed": true,
    "scrolled": true
   },
   "outputs": [],
   "source": [
    "from wordcloud import WordCloud\n",
    "import matplotlib.pyplot as plt\n",
    " \n",
    "# Create a list of word\n",
    "text=(s)\n",
    " \n",
    "# Create the wordcloud object\n",
    "wordcloud = WordCloud(width=480, height=480, margin=0).generate(text)\n",
    " \n",
    "# Display the generated image:\n",
    "plt.imshow(wordcloud, interpolation='bilinear')\n",
    "plt.axis(\"off\")\n",
    "plt.margins(x=0, y=0)\n",
    "plt.show()\n"
   ]
  },
  {
   "cell_type": "code",
   "execution_count": null,
   "metadata": {
    "collapsed": true
   },
   "outputs": [],
   "source": [
    "s2=frequency('goair_tokens.json')"
   ]
  },
  {
   "cell_type": "code",
   "execution_count": null,
   "metadata": {
    "collapsed": true
   },
   "outputs": [],
   "source": [
    "s3=frequency('indigo_tokens.json')"
   ]
  },
  {
   "cell_type": "code",
   "execution_count": null,
   "metadata": {
    "collapsed": true
   },
   "outputs": [],
   "source": [
    "from wordcloud import WordCloud\n",
    "import matplotlib.pyplot as plt\n",
    " \n",
    "# Create a list of word\n",
    "text=(s2)\n",
    " \n",
    "# Create the wordcloud object\n",
    "wordcloud = WordCloud(width=480, height=480, margin=0).generate(text)\n",
    " \n",
    "# Display the generated image:\n",
    "plt.imshow(wordcloud, interpolation='bilinear')\n",
    "plt.axis(\"off\")\n",
    "plt.margins(x=0, y=0)\n",
    "plt.show()\n"
   ]
  },
  {
   "cell_type": "code",
   "execution_count": null,
   "metadata": {
    "collapsed": true
   },
   "outputs": [],
   "source": [
    "from wordcloud import WordCloud\n",
    "import matplotlib.pyplot as plt\n",
    " \n",
    "# Create a list of word\n",
    "text=(s3)\n",
    " \n",
    "# Create the wordcloud object\n",
    "wordcloud = WordCloud(width=480, height=480, margin=0).generate(text)\n",
    " \n",
    "# Display the generated image:\n",
    "plt.imshow(wordcloud, interpolation='bilinear')\n",
    "plt.axis(\"off\")\n",
    "plt.margins(x=0, y=0)\n",
    "plt.show()\n"
   ]
  },
  {
   "cell_type": "code",
   "execution_count": null,
   "metadata": {
    "collapsed": true
   },
   "outputs": [],
   "source": [
    "useless_words=[\"go\",'i','air','goair','flight','airline','goair','indigo','ground','jet','airways','they','if','jetairways','travel','also','took','spice jet','even','fli','also']\n",
    "def preprocess(jsn):\n",
    "    c=[]\n",
    "    table = {ord(char): None for char in string.punctuation}\n",
    "    for i in range(len(jsn)):\n",
    "        preprocessed_content=[]\n",
    "        content=jsn[i]['content']\n",
    "        \n",
    "        if not content==None:\n",
    "            content=content.split()\n",
    "            for token in content:\n",
    "                #if token == 'goair':\n",
    "                    #print(token)\n",
    "                if not token.lower() in useless_words:\n",
    "                    if token not in stop_words and not token.lower().translate(table)==\"aed\":\n",
    "                        #print token.lower().translate(table)\n",
    "                        preprocessed_content.append(porter_stemmer.stem(token.lower().translate(table)))\n",
    "            c.append(preprocessed_content)\n",
    "    return c"
   ]
  },
  {
   "cell_type": "code",
   "execution_count": null,
   "metadata": {
    "collapsed": true
   },
   "outputs": [],
   "source": [
    "from nltk.corpus import stopwords \n",
    "stop_words = set(stopwords.words('english'))\n",
    "import string\n",
    "from nltk.stem.porter import PorterStemmer\n",
    "porter_stemmer = PorterStemmer()   \n",
    "\n",
    "import json\n",
    "write_tokens('goair_tokens.json',preprocess(read_json('goair.json')))\n",
    "print(preprocess(read_json('goair.json')))\n"
   ]
  },
  {
   "cell_type": "code",
   "execution_count": null,
   "metadata": {
    "collapsed": true
   },
   "outputs": [],
   "source": [
    "from nltk.corpus import stopwords \n",
    "stop_words = set(stopwords.words('english'))\n",
    "import string\n",
    "from nltk.stem.porter import PorterStemmer\n",
    "porter_stemmer = PorterStemmer()   \n",
    "\n",
    "import json\n",
    "write_tokens('indigo_tokens.json',preprocess(read_json('indigo.json')))\n"
   ]
  },
  {
   "cell_type": "code",
   "execution_count": null,
   "metadata": {
    "collapsed": true
   },
   "outputs": [],
   "source": [
    "from nltk.corpus import stopwords \n",
    "stop_words = set(stopwords.words('english'))\n",
    "import string\n",
    "from nltk.stem.porter import PorterStemmer\n",
    "porter_stemmer = PorterStemmer()   \n",
    "\n",
    "import json\n",
    "write_tokens('air_india_tokens.json',preprocess(read_json('air_india.json')))\n"
   ]
  },
  {
   "cell_type": "code",
   "execution_count": null,
   "metadata": {
    "collapsed": true
   },
   "outputs": [],
   "source": [
    "air_india=frequency('air_india_tokens.json')"
   ]
  },
  {
   "cell_type": "code",
   "execution_count": null,
   "metadata": {
    "collapsed": true
   },
   "outputs": [],
   "source": [
    "from wordcloud import WordCloud\n",
    "import matplotlib.pyplot as plt\n",
    " \n",
    "# Create a list of word\n",
    "text=(air_india)\n",
    " \n",
    "# Create the wordcloud object\n",
    "wordcloud = WordCloud(width=480, height=480, margin=0).generate(text)\n",
    " \n",
    "# Display the generated image:\n",
    "plt.imshow(wordcloud, interpolation='bilinear')\n",
    "plt.axis(\"off\")\n",
    "plt.margins(x=0, y=0)\n",
    "plt.show()"
   ]
  },
  {
   "cell_type": "code",
   "execution_count": null,
   "metadata": {
    "collapsed": true
   },
   "outputs": [],
   "source": [
    "from nltk.corpus import stopwords \n",
    "stop_words = set(stopwords.words('english'))\n",
    "import string\n",
    "from nltk.stem.porter import PorterStemmer\n",
    "porter_stemmer = PorterStemmer()   \n",
    "\n",
    "import json\n",
    "write_tokens('jet_airways_tokens.json',preprocess(read_json('jet_airways.json')))\n"
   ]
  },
  {
   "cell_type": "code",
   "execution_count": null,
   "metadata": {
    "collapsed": true
   },
   "outputs": [],
   "source": [
    "jet_airways=frequency('jet_airways_tokens.json')"
   ]
  },
  {
   "cell_type": "code",
   "execution_count": null,
   "metadata": {
    "collapsed": true
   },
   "outputs": [],
   "source": [
    "from wordcloud import WordCloud\n",
    "import matplotlib.pyplot as plt\n",
    " \n",
    "# Create a list of word\n",
    "text=(jet_airways)\n",
    " \n",
    "# Create the wordcloud object\n",
    "wordcloud = WordCloud(width=480, height=480, margin=0).generate(text)\n",
    " \n",
    "# Display the generated image:\n",
    "plt.imshow(wordcloud, interpolation='bilinear')\n",
    "plt.axis(\"off\")\n",
    "plt.margins(x=0, y=0)\n",
    "plt.show()"
   ]
  },
  {
   "cell_type": "code",
   "execution_count": null,
   "metadata": {
    "collapsed": true
   },
   "outputs": [],
   "source": [
    "from nltk.corpus import stopwords \n",
    "stop_words = set(stopwords.words('english'))\n",
    "import string\n",
    "from nltk.stem.porter import PorterStemmer\n",
    "porter_stemmer = PorterStemmer()   \n",
    "\n",
    "import json\n",
    "write_tokens('spicejet_tokens.json',preprocess(read_json('spicejet.json')))\n"
   ]
  },
  {
   "cell_type": "code",
   "execution_count": null,
   "metadata": {
    "collapsed": true
   },
   "outputs": [],
   "source": [
    "spicejet=frequency('spicejet_tokens.json')"
   ]
  },
  {
   "cell_type": "code",
   "execution_count": null,
   "metadata": {
    "collapsed": true
   },
   "outputs": [],
   "source": [
    "from wordcloud import WordCloud\n",
    "import matplotlib.pyplot as plt\n",
    " \n",
    "# Create a list of word\n",
    "text=(spicejet)\n",
    " \n",
    "# Create the wordcloud object\n",
    "wordcloud = WordCloud(width=480, height=480, margin=0).generate(text)\n",
    " \n",
    "# Display the generated image:\n",
    "plt.imshow(wordcloud, interpolation='bilinear')\n",
    "plt.axis(\"off\")\n",
    "plt.margins(x=0, y=0)\n",
    "plt.show()"
   ]
  },
  {
   "cell_type": "code",
   "execution_count": 7,
   "metadata": {},
   "outputs": [
    {
     "name": "stdout",
     "output_type": "stream",
     "text": [
      "time:(4263, 507, 781)\n",
      "time:(995, 247, 457)\n",
      "time:(666, 167, 396)\n",
      "money:(300, 55, 53)\n",
      "money:(430, 44, 76)\n",
      "staff:(2532, 299, 531)\n",
      "food:(3168, 167, 490)\n",
      "turbulence(66, 5, 12)\n",
      "service(161, 5, 35)\n",
      "service(3561, 293, 519)\n",
      "seat(2073, 237, 505)\n",
      "crew(1595, 147, 236)\n"
     ]
    }
   ],
   "source": [
    "def reviews_with_parameter(par,file=None):\n",
    "    p=0\n",
    "    nu=0\n",
    "    ne=0\n",
    "    if file==None:\n",
    "        with open('goair_tokens_polarity.json') as f:\n",
    "            jsn=json.load(f)\n",
    "            keys=jsn.keys()\n",
    "            for key in keys:\n",
    "                t=key.split()\n",
    "                if par in t:\n",
    "                    if jsn[key]>0:\n",
    "                        p+=1\n",
    "                    elif jsn[key]==0:\n",
    "                        nu+=1\n",
    "                    else:\n",
    "                        ne+=1\n",
    "        with open('air_india_tokens_polarity.json') as f:\n",
    "            jsn=json.load(f)\n",
    "            keys=jsn.keys()\n",
    "            for key in keys:\n",
    "                t=key.split()\n",
    "                if par in t:\n",
    "                    if jsn[key]>0:\n",
    "                        p+=1\n",
    "                    elif jsn[key]==0:\n",
    "                        nu+=1\n",
    "                    else:\n",
    "                        ne+=1\n",
    "        with open('indigo_tokens_polarity.json') as f:\n",
    "            jsn=json.load(f)\n",
    "            keys=jsn.keys()\n",
    "            for key in keys:\n",
    "                t=key.split()\n",
    "                if par in t:\n",
    "                    if jsn[key]>0:\n",
    "                        p+=1\n",
    "                    elif jsn[key]==0:\n",
    "                        nu+=1\n",
    "                    else:\n",
    "                        ne+=1\n",
    "        with open('jet_airways-token_polarity.json') as f:\n",
    "            jsn=json.load(f)\n",
    "            keys=jsn.keys()\n",
    "            for key in keys:\n",
    "                t=key.split()\n",
    "                if par in t:\n",
    "                    if jsn[key]>0:\n",
    "                        p+=1\n",
    "                    elif jsn[key]==0:\n",
    "                        nu+=1\n",
    "                    else:\n",
    "                        ne+=1\n",
    "        with open('spicejet_tokens_polarity.json') as f:\n",
    "            jsn=json.load(f)\n",
    "            keys=jsn.keys()\n",
    "            for key in keys:\n",
    "                t=key.split()\n",
    "                if par in t:\n",
    "                    if jsn[key]>0:\n",
    "                        p+=1\n",
    "                    elif jsn[key]==0:\n",
    "                        nu+=1\n",
    "                    else:\n",
    "                        ne+=1\n",
    "    else:\n",
    "        with open(file) as f:\n",
    "            jsn=json.load(f)\n",
    "            keys=jsn.keys()\n",
    "            for key in keys:\n",
    "                t=key.split()\n",
    "                if par in t:\n",
    "                    if jsn[key]>0:\n",
    "                        p+=1\n",
    "                    elif jsn[key]==0:\n",
    "                        nu+=1\n",
    "                    else:\n",
    "                        ne+=1\n",
    "    return p,nu,ne\n",
    "\n",
    "print(\"time:\"+str(reviews_with_parameter('time')))\n",
    "print(\"time:\"+str(reviews_with_parameter(\"delay\")))\n",
    "print(\"time:\"+str(reviews_with_parameter('hour')))\n",
    "print(\"money:\"+str(reviews_with_parameter('money')))\n",
    "print(\"money:\"+str(reviews_with_parameter('cost')))\n",
    "print(\"staff:\"+str(reviews_with_parameter('staff')))\n",
    "print(\"food:\"+str(reviews_with_parameter('food')))\n",
    "print('turbulence'+str(reviews_with_parameter('turbul')))\n",
    "print('service'+str(reviews_with_parameter('service')))\n",
    "print('service'+str(reviews_with_parameter('servic')))\n",
    "print('seat'+str(reviews_with_parameter('seat')))\n",
    "print('crew'+str(reviews_with_parameter('crew')))\n"
   ]
  },
  {
   "cell_type": "code",
   "execution_count": 2,
   "metadata": {
    "collapsed": true
   },
   "outputs": [],
   "source": [
    "import json"
   ]
  },
  {
   "cell_type": "code",
   "execution_count": 3,
   "metadata": {},
   "outputs": [
    {
     "ename": "KeyboardInterrupt",
     "evalue": "",
     "output_type": "error",
     "traceback": [
      "\u001b[1;31m---------------------------------------------------------------------------\u001b[0m",
      "\u001b[1;31mKeyboardInterrupt\u001b[0m                         Traceback (most recent call last)",
      "\u001b[1;32m<ipython-input-3-7e6259288352>\u001b[0m in \u001b[0;36m<module>\u001b[1;34m()\u001b[0m\n\u001b[0;32m      1\u001b[0m \u001b[1;31m# libraries\u001b[0m\u001b[1;33m\u001b[0m\u001b[1;33m\u001b[0m\u001b[0m\n\u001b[0;32m      2\u001b[0m \u001b[1;32mimport\u001b[0m \u001b[0mnumpy\u001b[0m \u001b[1;32mas\u001b[0m \u001b[0mnp\u001b[0m\u001b[1;33m\u001b[0m\u001b[0m\n\u001b[1;32m----> 3\u001b[1;33m \u001b[1;32mimport\u001b[0m \u001b[0mmatplotlib\u001b[0m\u001b[1;33m.\u001b[0m\u001b[0mpyplot\u001b[0m \u001b[1;32mas\u001b[0m \u001b[0mplt\u001b[0m\u001b[1;33m\u001b[0m\u001b[0m\n\u001b[0m\u001b[0;32m      4\u001b[0m \u001b[1;32mfrom\u001b[0m \u001b[0mmatplotlib\u001b[0m \u001b[1;32mimport\u001b[0m \u001b[0mrc\u001b[0m\u001b[1;33m\u001b[0m\u001b[0m\n\u001b[0;32m      5\u001b[0m \u001b[1;32mimport\u001b[0m \u001b[0mpandas\u001b[0m \u001b[1;32mas\u001b[0m \u001b[0mpd\u001b[0m\u001b[1;33m\u001b[0m\u001b[0m\n",
      "\u001b[1;32mF:\\anaconda3\\lib\\site-packages\\matplotlib\\pyplot.py\u001b[0m in \u001b[0;36m<module>\u001b[1;34m()\u001b[0m\n\u001b[0;32m     34\u001b[0m \u001b[1;32mfrom\u001b[0m \u001b[0mmatplotlib\u001b[0m\u001b[1;33m.\u001b[0m\u001b[0mcbook\u001b[0m \u001b[1;32mimport\u001b[0m \u001b[0mdeprecated\u001b[0m\u001b[1;33m\u001b[0m\u001b[0m\n\u001b[0;32m     35\u001b[0m \u001b[1;32mfrom\u001b[0m \u001b[0mmatplotlib\u001b[0m \u001b[1;32mimport\u001b[0m \u001b[0mdocstring\u001b[0m\u001b[1;33m\u001b[0m\u001b[0m\n\u001b[1;32m---> 36\u001b[1;33m \u001b[1;32mfrom\u001b[0m \u001b[0mmatplotlib\u001b[0m\u001b[1;33m.\u001b[0m\u001b[0mbackend_bases\u001b[0m \u001b[1;32mimport\u001b[0m \u001b[0mFigureCanvasBase\u001b[0m\u001b[1;33m\u001b[0m\u001b[0m\n\u001b[0m\u001b[0;32m     37\u001b[0m \u001b[1;32mfrom\u001b[0m \u001b[0mmatplotlib\u001b[0m\u001b[1;33m.\u001b[0m\u001b[0mfigure\u001b[0m \u001b[1;32mimport\u001b[0m \u001b[0mFigure\u001b[0m\u001b[1;33m,\u001b[0m \u001b[0mfigaspect\u001b[0m\u001b[1;33m\u001b[0m\u001b[0m\n\u001b[0;32m     38\u001b[0m \u001b[1;32mfrom\u001b[0m \u001b[0mmatplotlib\u001b[0m\u001b[1;33m.\u001b[0m\u001b[0mgridspec\u001b[0m \u001b[1;32mimport\u001b[0m \u001b[0mGridSpec\u001b[0m\u001b[1;33m\u001b[0m\u001b[0m\n",
      "\u001b[1;32mF:\\anaconda3\\lib\\importlib\\_bootstrap.py\u001b[0m in \u001b[0;36m_find_and_load\u001b[1;34m(name, import_)\u001b[0m\n",
      "\u001b[1;32mF:\\anaconda3\\lib\\importlib\\_bootstrap.py\u001b[0m in \u001b[0;36m_find_and_load_unlocked\u001b[1;34m(name, import_)\u001b[0m\n",
      "\u001b[1;32mF:\\anaconda3\\lib\\importlib\\_bootstrap.py\u001b[0m in \u001b[0;36m_load_unlocked\u001b[1;34m(spec)\u001b[0m\n",
      "\u001b[1;32mF:\\anaconda3\\lib\\importlib\\_bootstrap_external.py\u001b[0m in \u001b[0;36mexec_module\u001b[1;34m(self, module)\u001b[0m\n",
      "\u001b[1;32mF:\\anaconda3\\lib\\importlib\\_bootstrap_external.py\u001b[0m in \u001b[0;36mget_code\u001b[1;34m(self, fullname)\u001b[0m\n",
      "\u001b[1;32mF:\\anaconda3\\lib\\importlib\\_bootstrap_external.py\u001b[0m in \u001b[0;36mget_data\u001b[1;34m(self, path)\u001b[0m\n",
      "\u001b[1;31mKeyboardInterrupt\u001b[0m: "
     ]
    }
   ],
   "source": [
    "# libraries\n",
    "import numpy as np\n",
    "import matplotlib.pyplot as plt\n",
    "from matplotlib import rc\n",
    "import pandas as pd\n",
    "\n",
    "# y-axis in bold\n",
    "rc('font', weight='bold')\n",
    "\n",
    "# Values of each group\n",
    "bars1 = [4263+995+666, 300+430, 2532+161+3561+1595, 3168, 66,2073]\n",
    "bars2 = [507+247+167, 55+44, 299+5+293+147, 167, 5,237]\n",
    "bars3 = [781+457+396, 53+76, 531+35+519+236, 490, 12,236]\n",
    "\n",
    "# Heights of bars1 + bars2 (TO DO better)\n",
    "bars = [4263+995+666+507+247+167,300+430+55+44,2532+161+3561+1595+299+5+293+147,3168+167, 66+5,2073+237]\n",
    "\n",
    "# The position of the bars on the x-axis\n",
    "r = [0,1,2,3,4,5]\n",
    "#bottom, width, height=0.8, left=None, hold=None\n",
    "# Names of group and bar width\n",
    "names = ['Time Delay','Value for money','Staff','Food','Turbulence','Aircraft condition']\n",
    "barWidth = 1\n",
    "\n",
    "# Create brown bars\n",
    "plt.barh(r,width=bars1,color='#7f6d5f',height=1, edgecolor='white')\n",
    "# Create green bars (middle), on top of the firs ones\n",
    "plt.barh(r,width=bars2, left=bars1, height=1,color='#557f2d', edgecolor='white')\n",
    "# Create green bars (top)\n",
    "plt.barh(r,width=bars3, left=bars, height=1,color='#2d7f5e', edgecolor='white')\n",
    "\n",
    "# Custom X axis\n",
    "plt.xticks(names, fontweight='bold')\n",
    "plt.xlabel(\"group\")\n",
    "\n",
    "# Show graphic\n",
    "plt.show()\n",
    "#(300, 55, 53) (430, 44, 76)"
   ]
  },
  {
   "cell_type": "code",
   "execution_count": 5,
   "metadata": {},
   "outputs": [
    {
     "data": {
      "image/png": "[encoded data removed]",
      "text/plain": [
       "<matplotlib.figure.Figure at 0x20806af6278>"
      ]
     },
     "metadata": {},
     "output_type": "display_data"
    }
   ],
   "source": [
    "import numpy as np\n",
    "import matplotlib.pyplot as plt\n",
    "from matplotlib import rc\n",
    "import pandas as pd\n",
    " \n",
    "# y-axis in bold\n",
    "rc('font', weight='bold')\n",
    " \n",
    "# Values of each group\n",
    "bars1 = [4263+995+666, 300+430, 2532+161+3561+1595, 3168, 66,2073]\n",
    "bars2 = [507+247+167, 55+44, 299+5+293+147, 167, 5,237]\n",
    "bars3 = [781+457+396, 53+76, 531+35+519+236, 490, 12,236]\n",
    " \n",
    "# Heights of bars1 + bars2 (TO DO better)\n",
    "bars = [4263+995+666+507+247+167,300+430+55+44,2532+161+3561+1595+299+5+293+147,3168+167, 66+5,2073+237]\n",
    " \n",
    "# The position of the bars on the x-axis\n",
    "r = [0,1,2,3,4,5]\n",
    " \n",
    "# Names of group and bar width\n",
    "names = ['Time Delay','Value \\nfor\\n money','Staff','Food','Turbulence','Aircraft \\ncondition']\n",
    "barWidth = .8\n",
    "\n",
    " \n",
    "# Create brown bars\n",
    "p1=plt.bar(r, bars1, edgecolor='white', width=barWidth,lineWidth=0)\n",
    "# Create green bars (middle), on top of the firs ones\n",
    "p2=plt.bar(r, bars2, bottom=bars1, edgecolor='white', width=barWidth,lineWidth=0)\n",
    "# Create green bars (top)\n",
    "p3=plt.bar(r, bars3, bottom=bars, edgecolor='white', width=barWidth,lineWidth=0)\n",
    " \n",
    "# Custom X axis\n",
    "plt.xticks(r, names, fontweight='bold')\n",
    "plt.xlabel(\"parameters\")\n",
    "plt.ylabel(\"Number of Reviews\")\n",
    "plt.legend((p1[0], p2[0],p3[0]), (\"Positive\",\"Negative\" ,'Nuetral'))\n",
    "# Show graphic\n",
    "plt.show()\n"
   ]
  },
  {
   "cell_type": "code",
   "execution_count": 10,
   "metadata": {},
   "outputs": [
    {
     "name": "stdout",
     "output_type": "stream",
     "text": [
      "time:(409, 78, 103)\n",
      "time:(125, 48, 71)\n",
      "time:(73, 30, 44)\n",
      "money:(52, 13, 18)\n",
      "money:(83, 12, 17)\n",
      "staff:(217, 32, 73)\n",
      "food:(204, 19, 30)\n",
      "turbulence(2, 0, 5)\n",
      "service(0, 0, 0)\n",
      "service(296, 43, 60)\n",
      "seat(224, 36, 76)\n",
      "crew(137, 15, 21)\n"
     ]
    }
   ],
   "source": [
    "print(\"time:\"+str(reviews_with_parameter('time',\"spicejet_tokens_polarity.json\")))\n",
    "print(\"time:\"+str(reviews_with_parameter(\"delay\",\"spicejet_tokens_polarity.json\")))\n",
    "print(\"time:\"+str(reviews_with_parameter('hour',\"spicejet_tokens_polarity.json\")))\n",
    "print(\"money:\"+str(reviews_with_parameter('money',\"spicejet_tokens_polarity.json\")))\n",
    "print(\"money:\"+str(reviews_with_parameter('cost',\"spicejet_tokens_polarity.json\")))\n",
    "print(\"staff:\"+str(reviews_with_parameter('staff',\"spicejet_tokens_polarity.json\")))\n",
    "print(\"food:\"+str(reviews_with_parameter('food',\"spicejet_tokens_polarity.json\")))\n",
    "print('turbulence'+str(reviews_with_parameter('turbul',\"spicejet_tokens_polarity.json\")))\n",
    "print('service'+str(reviews_with_parameter('service',\"spicejet_tokens_polarity.json\")))\n",
    "print('service'+str(reviews_with_parameter('servic',\"spicejet_tokens_polarity.json\")))\n",
    "print('seat'+str(reviews_with_parameter('seat',\"spicejet_tokens_polarity.json\")))\n",
    "print('crew'+str(reviews_with_parameter('crew',\"spicejet_tokens_polarity.json\")))"
   ]
  },
  {
   "cell_type": "code",
   "execution_count": null,
   "metadata": {
    "collapsed": true
   },
   "outputs": [],
   "source": []
  },
  {
   "cell_type": "code",
   "execution_count": 12,
   "metadata": {},
   "outputs": [
    {
     "name": "stdout",
     "output_type": "stream",
     "text": [
      "time:(1395, 164, 199)\n",
      "time:(247, 64, 83)\n",
      "time:(112, 32, 52)\n",
      "money:(104, 18, 10)\n",
      "money:(188, 13, 25)\n",
      "staff:(676, 85, 118)\n",
      "food:(448, 30, 63)\n",
      "turbulence(21, 2, 1)\n",
      "service(0, 0, 0)\n",
      "service(849, 78, 86)\n",
      "seat(471, 56, 81)\n",
      "crew(378, 45, 46)\n"
     ]
    }
   ],
   "source": [
    "print(\"time:\"+str(reviews_with_parameter('time',\"indigo_tokens_polarity.json\")))\n",
    "print(\"time:\"+str(reviews_with_parameter(\"delay\",\"indigo_tokens_polarity.json\")))\n",
    "print(\"time:\"+str(reviews_with_parameter('hour',\"indigo_tokens_polarity.json\")))\n",
    "print(\"money:\"+str(reviews_with_parameter('money',\"indigo_tokens_polarity.json\")))\n",
    "print(\"money:\"+str(reviews_with_parameter('cost',\"indigo_tokens_polarity.json\")))\n",
    "print(\"staff:\"+str(reviews_with_parameter('staff',\"indigo_tokens_polarity.json\")))\n",
    "print(\"food:\"+str(reviews_with_parameter('food',\"indigo_tokens_polarity.json\")))\n",
    "print('turbulence'+str(reviews_with_parameter('turbul',\"indigo_tokens_polarity.json\")))\n",
    "print('service'+str(reviews_with_parameter('service',\"indigo_tokens_polarity.json\")))\n",
    "print('service'+str(reviews_with_parameter('servic',\"indigo_tokens_polarity.json\")))\n",
    "print('seat'+str(reviews_with_parameter('seat',\"indigo_tokens_polarity.json\")))\n",
    "print('crew'+str(reviews_with_parameter('crew',\"indigo_tokens_polarity.json\")))"
   ]
  },
  {
   "cell_type": "code",
   "execution_count": 14,
   "metadata": {},
   "outputs": [
    {
     "name": "stdout",
     "output_type": "stream",
     "text": [
      "time:(1666, 177, 293)\n",
      "time:(387, 86, 192)\n",
      "time:(274, 69, 178)\n",
      "money:(92, 12, 8)\n",
      "money:(102, 12, 23)\n",
      "staff:(1142, 129, 185)\n",
      "food:(1666, 97, 224)\n",
      "turbulence(34, 3, 6)\n",
      "service(0, 0, 0)\n",
      "service(1807, 134, 240)\n",
      "seat(911, 104, 209)\n",
      "crew(776, 74, 99)\n"
     ]
    }
   ],
   "source": [
    "f=\"jet_airways-token_polarity.json\"\n",
    "print(\"time:\"+str(reviews_with_parameter('time',f)))\n",
    "print(\"time:\"+str(reviews_with_parameter(\"delay\",f)))\n",
    "print(\"time:\"+str(reviews_with_parameter('hour',f)))\n",
    "print(\"money:\"+str(reviews_with_parameter('money',f)))\n",
    "print(\"money:\"+str(reviews_with_parameter('cost',f)))\n",
    "print(\"staff:\"+str(reviews_with_parameter('staff',f)))\n",
    "print(\"food:\"+str(reviews_with_parameter('food',f)))\n",
    "print('turbulence'+str(reviews_with_parameter('turbul',f)))\n",
    "print('service'+str(reviews_with_parameter('service',f)))\n",
    "print('service'+str(reviews_with_parameter('servic',f)))\n",
    "print('seat'+str(reviews_with_parameter('seat',f)))\n",
    "print('crew'+str(reviews_with_parameter('crew',f)))"
   ]
  },
  {
   "cell_type": "code",
   "execution_count": 15,
   "metadata": {},
   "outputs": [
    {
     "name": "stdout",
     "output_type": "stream",
     "text": [
      "time:(112, 29, 23)\n",
      "time:(46, 16, 18)\n",
      "time:(18, 4, 7)\n",
      "money:(9, 8, 2)\n",
      "money:(14, 1, 3)\n",
      "staff:(80, 20, 16)\n",
      "food:(41, 3, 11)\n",
      "turbulence(1, 0, 0)\n",
      "service(0, 0, 0)\n",
      "service(88, 9, 8)\n",
      "seat(74, 13, 17)\n",
      "crew(37, 5, 7)\n"
     ]
    }
   ],
   "source": [
    "f=\"goair_tokens_polarity.json\"\n",
    "print(\"time:\"+str(reviews_with_parameter('time',f)))\n",
    "print(\"time:\"+str(reviews_with_parameter(\"delay\",f)))\n",
    "print(\"time:\"+str(reviews_with_parameter('hour',f)))\n",
    "print(\"money:\"+str(reviews_with_parameter('money',f)))\n",
    "print(\"money:\"+str(reviews_with_parameter('cost',f)))\n",
    "print(\"staff:\"+str(reviews_with_parameter('staff',f)))\n",
    "print(\"food:\"+str(reviews_with_parameter('food',f)))\n",
    "print('turbulence'+str(reviews_with_parameter('turbul',f)))\n",
    "print('service'+str(reviews_with_parameter('service',f)))\n",
    "print('service'+str(reviews_with_parameter('servic',f)))\n",
    "print('seat'+str(reviews_with_parameter('seat',f)))\n",
    "print('crew'+str(reviews_with_parameter('crew',f)))"
   ]
  },
  {
   "cell_type": "code",
   "execution_count": 17,
   "metadata": {},
   "outputs": [
    {
     "name": "stdout",
     "output_type": "stream",
     "text": [
      "time:(681, 59, 163)\n",
      "time:(190, 33, 93)\n",
      "time:(189, 32, 115)\n",
      "money:(43, 4, 15)\n",
      "money:(43, 6, 8)\n",
      "staff:(417, 33, 139)\n",
      "food:(809, 18, 162)\n",
      "turbulence(8, 0, 0)\n",
      "service(161, 5, 35)\n",
      "service(521, 29, 125)\n",
      "seat(393, 28, 122)\n",
      "crew(267, 8, 63)\n"
     ]
    }
   ],
   "source": [
    "f=\"air_india_tokens_polarity.json\"\n",
    "print(\"time:\"+str(reviews_with_parameter('time',f)))\n",
    "print(\"time:\"+str(reviews_with_parameter(\"delay\",f)))\n",
    "print(\"time:\"+str(reviews_with_parameter('hour',f)))\n",
    "print(\"money:\"+str(reviews_with_parameter('money',f)))\n",
    "print(\"money:\"+str(reviews_with_parameter('cost',f)))\n",
    "print(\"staff:\"+str(reviews_with_parameter('staff',f)))\n",
    "print(\"food:\"+str(reviews_with_parameter('food',f)))\n",
    "print('turbulence'+str(reviews_with_parameter('turbul',f)))\n",
    "print('service'+str(reviews_with_parameter('service',f)))\n",
    "print('service'+str(reviews_with_parameter('servic',f)))\n",
    "print('seat'+str(reviews_with_parameter('seat',f)))\n",
    "print('crew'+str(reviews_with_parameter('crew',f)))"
   ]
  },
  {
   "cell_type": "code",
   "execution_count": 18,
   "metadata": {},
   "outputs": [
    {
     "data": {
      "image/png": "[encoded data removed]",
      "text/plain": [
       "<matplotlib.figure.Figure at 0x249f6ef96d8>"
      ]
     },
     "metadata": {},
     "output_type": "display_data"
    }
   ],
   "source": [
    "import numpy as np\n",
    "import matplotlib.pyplot as plt\n",
    "from matplotlib import rc\n",
    "import pandas as pd\n",
    " \n",
    "# y-axis in bold\n",
    "rc('font', weight='bold')\n",
    "# Values of each group\n",
    "bars1 = [681+190+189, 112+46+18, 1666+387+274, 1395+247+112,409+125+73]#time\n",
    "bars2 = [43+43, 9+14, 92+102, 104+188,52+83 ]#money\n",
    "bars3 = [809, 41, 1666, 448, 204]#food\n",
    "bars4 =  [417+161+521+267,80+88+37,1142+1807+776,417+161+521+267,217+296+137] #service\n",
    "# Heights of bars1 + bars2 \n",
    "bars = [681+190+189+43+43+809, 112+46+18+9+14+41,1666+387+274+92+102+1666, 1395+247+112+ 104+188+448, 409+125+73+52+83+204]\n",
    "bars_h=[681+190+189+43+43, 112+46+18+9+14,1666+387+274+92+102, 1395+247+112+ 104+188, 409+125+73+52+83] \n",
    "# The position of the bars on the x-axis\n",
    "r = [0,1,2,3,4]\n",
    " \n",
    "# Names of group and bar width\n",
    "names = ['Air India','Go Air','Jet Airways','Indigo','Spicejet']\n",
    "barWidth = .825\n",
    "\n",
    " \n",
    "# Create brown bars\n",
    "p1=plt.bar(r, bars1, edgecolor='white', width=barWidth,lineWidth=0)\n",
    "# Create green bars (middle), on top of the firs ones\n",
    "p2=plt.bar(r, bars2, bottom=bars1, edgecolor='white', width=barWidth,lineWidth=0)\n",
    "# Create green bars (top)\n",
    "p3=plt.bar(r, bars3, bottom=bars_h, edgecolor='white', width=barWidth,lineWidth=0)\n",
    "\n",
    "p4=plt.bar(r, bars4,bottom=bars,edgecolor='white',width=barWidth,lineWidth=0)\n",
    " \n",
    "# Custom X axis\n",
    "plt.xticks(r, names, fontweight='bold')\n",
    "plt.xlabel(\"Airlines\")\n",
    "plt.ylabel(\"Number of Reviews\")\n",
    "plt.legend((p1[0], p2[0],p3[0],p4[0]), (\"Time delay\",\"Value for Money\" ,'Food','Customer Service'))\n",
    "# Show graphic\n",
    "plt.show()\n"
   ]
  },
  {
   "cell_type": "code",
   "execution_count": 22,
   "metadata": {},
   "outputs": [
    {
     "data": {
      "image/png": "[encoded data removed]",
      "text/plain": [
       "<matplotlib.figure.Figure at 0x249f87e32e8>"
      ]
     },
     "metadata": {},
     "output_type": "display_data"
    }
   ],
   "source": [
    "import numpy as np\n",
    "import matplotlib.pyplot as plt\n",
    "from matplotlib import rc\n",
    "import pandas as pd\n",
    " \n",
    "# Data\n",
    "r = [0,1,2,3,4]\n",
    "raw_data = {'greenBars': [681+190+189, 112+46+18, 1666+387+274, 1395+247+112,409+125+73], 'orangeBars': [43+43, 9+14, 92+102, 104+188,52+83],'blueBars':  [809, 41, 1666, 448, 204], 'yellowBars':[417+161+521+267,80+88+37,1142+1807+776,417+161+521+267,217+296+137]}\n",
    "df = pd.DataFrame(raw_data)\n",
    " \n",
    "# From raw value to percentage\n",
    "totals = [i+j+k+l for i,j,k,l in zip(df['greenBars'], df['orangeBars'], df['blueBars'], df['yellowBars'])]\n",
    "greenBars = [i / j  for i,j in zip(df['greenBars'], totals)]\n",
    "orangeBars = [i / j  for i,j in zip(df['orangeBars'], totals)]\n",
    "blueBars = [i / j  for i,j in zip(df['blueBars'], totals)]\n",
    "yellowBars = [i/j for i,j in zip(df['yellowBars'],totals)]\n",
    " \n",
    "# plot\n",
    "barWidth = 0.85\n",
    "\n",
    "names = ('Jet Airways','Indigo','Air India','Spicejet','Go Air')\n",
    "# Create green Bars\n",
    "p1=plt.bar(r, greenBars, color='#b5ffb9', edgecolor='white', width=barWidth,lineWidth=0)\n",
    "# Create orange Bars\n",
    "p2=plt.bar(r, orangeBars, bottom=greenBars, color='#f9bc86', edgecolor='white', width=barWidth,lineWidth=0)\n",
    "# Create blue Bars\n",
    "p3=plt.bar(r, blueBars, bottom=[i+j for i,j in zip(greenBars, orangeBars)], color='#a3acff', edgecolor='white', width=barWidth,lineWidth=0)\n",
    " \n",
    "p4=plt.bar(r, blueBars, bottom=[i+j+k for i,j,k in zip(greenBars,orangeBars,blueBars)], color='black', edgecolor='white', width=barWidth,lineWidth=0)    \n",
    "# Custom x axis\n",
    "plt.xticks(r, names)\n",
    "plt.xlabel(\"Airlines\")\n",
    "plt.ylabel(\"Fraction of Reviews\")\n",
    "plt.legend((p1[0], p2[0],p3[0],p4[0]), (\"Time\",\"Money\" ,'Food','Service'))\n",
    "# Show graphic\n",
    "plt.show()\n"
   ]
  },
  {
   "cell_type": "code",
   "execution_count": null,
   "metadata": {
    "collapsed": true
   },
   "outputs": [],
   "source": []
  }
 ],
 "metadata": {
  "kernelspec": {
   "display_name": "Python 3",
   "language": "python",
   "name": "python3"
  },
  "language_info": {
   "codemirror_mode": {
    "name": "ipython",
    "version": 3
   },
   "file_extension": ".py",
   "mimetype": "text/x-python",
   "name": "python",
   "nbconvert_exporter": "python",
   "pygments_lexer": "ipython3",
   "version": "3.6.3"
  }
 },
 "nbformat": 4,
 "nbformat_minor": 2
}
